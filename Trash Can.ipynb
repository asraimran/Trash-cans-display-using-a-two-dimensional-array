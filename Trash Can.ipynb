{
 "cells": [
  {
   "cell_type": "code",
   "execution_count": 15,
   "id": "aa36a81c",
   "metadata": {},
   "outputs": [
    {
     "name": "stdout",
     "output_type": "stream",
     "text": [
      "no. of trash cans:3\n",
      "no. of bags in each can:3\n",
      "Trash cans\n",
      "0| 0| 0\n",
      "0| 0| 0\n",
      "0| 0| 0\n",
      "-  -  -  \n",
      "In which can you want to enter bag 0 to 3? : 1\n",
      "[[0, 0, 0], [0, 0, 0], [0, 0, 0]]\n",
      "aaa\n",
      "0| 1| 0\n",
      "0| 0| 0\n",
      "0| 0| 0\n",
      "-  -  -  \n",
      "In which can you want to enter bag 0 to 3? : 1\n",
      "[[0, 1, 0], [0, 0, 0], [0, 0, 0]]\n",
      "aaa\n",
      "0| 1| 0\n",
      "0| 1| 0\n",
      "0| 0| 0\n",
      "-  -  -  \n",
      "In which can you want to enter bag 0 to 3? : 1\n",
      "[[0, 1, 0], [0, 1, 0], [0, 0, 0]]\n",
      "aaa\n",
      "0| 1| 0\n",
      "0| 1| 0\n",
      "0| 1| 0\n",
      "-  -  -  \n",
      "In which can you want to enter bag 0 to 3? : 1\n",
      "[[0, 1, 0], [0, 1, 0], [0, 1, 0]]\n",
      "can full\n"
     ]
    }
   ],
   "source": [
    "import trash\n",
    "a=int(input(\"no. of trash cans:\"))\n",
    "#checking cans input is valid or not\n",
    "trash.getposint(a) \n",
    "b=int(input(\"no. of bags in each can:\"))\n",
    "#checking cans input is valid or not\n",
    "trash.getposint(b)\n",
    "#display trash cans\n",
    "print(\"Trash cans\")\n",
    "k=trash.trashcan(a,b)\n",
    "for i in range(0,b):\n",
    "    arr=print(*k[0],sep='| ')\n",
    "print(\"-  \"*a)\n",
    "x=0\n",
    "cc=k\n",
    "while True:\n",
    "\n",
    "    print(\"In which can you want to enter bag 0 to\",a,end='? : ')\n",
    "    prompt=int(input())\n",
    "\n",
    "    if type(cc)== type(1):\n",
    "        pass\n",
    "    else:\n",
    "        cc=cc[a-1][:]\n",
    "    if cc[prompt]==1 or type(cc)== type(1):\n",
    "        print(\"can full\")\n",
    "        break\n",
    "    else:\n",
    "        print(\"aaa\")\n",
    "        trash.getboundedint(prompt,0,a)\n",
    "\n",
    "        l=trash.addtrash(prompt,k,b)\n",
    "        cc=l\n",
    "        x+=1\n",
    "        for i in range(0,b):\n",
    "            print(*l[i],sep='| ')\n",
    "        print(\"-  \"*b)\n",
    "     "
   ]
  },
  {
   "cell_type": "code",
   "execution_count": 3,
   "id": "028ef480",
   "metadata": {},
   "outputs": [
    {
     "name": "stdout",
     "output_type": "stream",
     "text": [
      "no. of trash cans:3\n",
      "no. of bags in each can:3\n",
      "Trash cans\n",
      "0| 0| 0\n",
      "0| 0| 0\n",
      "0| 0| 0\n",
      "-  -  -  \n",
      "In which can you want to enter bag 0 to 3? : 0\n",
      "1| 0| 0\n",
      "0| 0| 0\n",
      "0| 0| 0\n",
      "-  -  -  \n",
      "In which can you want to enter bag 0 to 3? : 0\n",
      "1| 0| 0\n",
      "1| 0| 0\n",
      "0| 0| 0\n",
      "-  -  -  \n",
      "In which can you want to enter bag 0 to 3? : 0\n",
      "1| 0| 0\n",
      "1| 0| 0\n",
      "1| 0| 0\n",
      "-  -  -  \n",
      "In which can you want to enter bag 0 to 3? : 0\n",
      "One can fill . Time to have trash picked up\n",
      "1| 0| 0\n",
      "1| 0| 0\n",
      "1| 0| 0\n",
      "-  -  -  \n"
     ]
    }
   ],
   "source": [
    "## import trash\n",
    "a=int(input(\"no. of trash cans:\"))\n",
    "#checking cans input is valid or not\n",
    "trash.getposint(a) \n",
    "b=int(input(\"no. of bags in each can:\"))\n",
    "#checking cans input is valid or not\n",
    "trash.getposint(b)\n",
    "#display trash cans\n",
    "print(\"Trash cans\")\n",
    "k=trash.trashcan(a,b)\n",
    "for i in range(0,b):\n",
    "    arr=print(*k[0],sep='| ')\n",
    "print(\"-  \"*a)\n",
    "x=0\n",
    "y=b+1\n",
    "while x<=y:\n",
    "    if x==y:\n",
    "        break\n",
    "    else:\n",
    "        print(\"In which can you want to enter bag 0 to\",a,end='? : ')\n",
    "        prompt=int(input())\n",
    "        trash.getboundedint(prompt,0,a)\n",
    "        l=trash.addtrash(prompt,k,b)\n",
    "        x+=1\n",
    "        for i in range(0,b):\n",
    "            arr=print(*l[i],sep='| ')\n",
    "    print(\"-  \"*b)\n"
   ]
  },
  {
   "cell_type": "code",
   "execution_count": 11,
   "id": "2c31984b",
   "metadata": {},
   "outputs": [
    {
     "name": "stdout",
     "output_type": "stream",
     "text": [
      "good\n"
     ]
    }
   ],
   "source": [
    "if type(cc)== type(1):\n",
    "    print(\"good\")"
   ]
  },
  {
   "cell_type": "code",
   "execution_count": 10,
   "id": "75efba05",
   "metadata": {},
   "outputs": [],
   "source": [
    "cc=1"
   ]
  },
  {
   "cell_type": "code",
   "execution_count": null,
   "id": "23ccf34d",
   "metadata": {},
   "outputs": [],
   "source": []
  }
 ],
 "metadata": {
  "kernelspec": {
   "display_name": "Python 3 (ipykernel)",
   "language": "python",
   "name": "python3"
  },
  "language_info": {
   "codemirror_mode": {
    "name": "ipython",
    "version": 3
   },
   "file_extension": ".py",
   "mimetype": "text/x-python",
   "name": "python",
   "nbconvert_exporter": "python",
   "pygments_lexer": "ipython3",
   "version": "3.9.7"
  }
 },
 "nbformat": 4,
 "nbformat_minor": 5
}
